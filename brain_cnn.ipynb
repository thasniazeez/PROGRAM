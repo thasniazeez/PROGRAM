{
  "cells": [
    {
      "cell_type": "markdown",
      "metadata": {
        "id": "view-in-github",
        "colab_type": "text"
      },
      "source": [
        "<a href=\"https://colab.research.google.com/github/thasniazeez/PROGRAM/blob/main/brain_cnn.ipynb\" target=\"_parent\"><img src=\"https://colab.research.google.com/assets/colab-badge.svg\" alt=\"Open In Colab\"/></a>"
      ]
    },
    {
      "cell_type": "code",
      "execution_count": 1,
      "metadata": {
        "id": "5t30M1RvbgJ4"
      },
      "outputs": [],
      "source": [
        "import os\n",
        "from skimage.io import imread\n",
        "from skimage.transform import resize\n",
        "from keras.models import Sequential\n",
        "from keras.layers import Conv2D,MaxPool2D,Dense"
      ]
    },
    {
      "cell_type": "code",
      "execution_count": 2,
      "metadata": {
        "colab": {
          "base_uri": "https://localhost:8080/"
        },
        "id": "Ighza9Izexc_",
        "outputId": "64655972-3ed3-4681-f1e8-4f561228c0df"
      },
      "outputs": [
        {
          "output_type": "execute_result",
          "data": {
            "text/plain": [
              "['pituitary', 'meningioma', 'notumor', 'glioma']"
            ]
          },
          "metadata": {},
          "execution_count": 2
        }
      ],
      "source": [
        "os.listdir(\"/content/drive/MyDrive/Testing\")"
      ]
    },
    {
      "cell_type": "code",
      "execution_count": 3,
      "metadata": {
        "colab": {
          "base_uri": "https://localhost:8080/"
        },
        "id": "C9uoFH43fyQ6",
        "outputId": "d9562fac-c55d-45a3-f7e3-eaf32c60770c"
      },
      "outputs": [
        {
          "output_type": "execute_result",
          "data": {
            "text/plain": [
              "['pituitary', 'notumor', 'meningioma', 'glioma']"
            ]
          },
          "metadata": {},
          "execution_count": 3
        }
      ],
      "source": [
        "os.listdir(\"/content/drive/MyDrive/Training\")"
      ]
    },
    {
      "cell_type": "code",
      "execution_count": null,
      "metadata": {
        "colab": {
          "background_save": true
        },
        "id": "tuy835TGitUK"
      },
      "outputs": [],
      "source": [
        "train_data=\"/content/drive/MyDrive/Training\"\n",
        "X_train=[]\n",
        "y_train=[]\n",
        "Categories=['pituitary',  'notumor', 'meningioma', 'glioma']\n",
        "for i in Categories:\n",
        "  path=os.path.join(train_data,i)\n",
        "  images=os.listdir(path)\n",
        "  for img in images:\n",
        "    imgpath=os.path.join(path,img)\n",
        "    img_array=imread(imgpath)\n",
        "    img_resize=resize(img_array,(150,150,3))\n",
        "    X_train.append(img_resize)\n",
        "    y_train.append(Categories.index(i))\n",
        "    # print('Loaded',i)"
      ]
    },
    {
      "cell_type": "code",
      "execution_count": null,
      "metadata": {
        "colab": {
          "background_save": true
        },
        "id": "6h6VKeTXnWT0"
      },
      "outputs": [],
      "source": [
        "test_data='/content/drive/MyDrive/Testing'\n",
        "X_test=[]\n",
        "y_test=[]\n",
        "Categories=['pituitary', 'meningioma', 'notumor', 'glioma']\n",
        "for i in Categories:\n",
        "  path=os.path.join(test_data,i)\n",
        "  images=os.listdir(path)\n",
        "  for img in images:\n",
        "    imgpath=os.path.join(path,img)\n",
        "    print(imgpath)\n",
        "    img_array=imread(imgpath)\n",
        "    img_resize=resize(img_array,(150,150,3))\n",
        "    X_test.append(img_resize)\n",
        "    y_test.append(Categories.index(i))\n",
        "    # print('Loaded',i)\n"
      ]
    },
    {
      "cell_type": "code",
      "execution_count": null,
      "metadata": {
        "id": "d54I4NZgpLC7"
      },
      "outputs": [],
      "source": [
        "import numpy as np\n",
        "X_train=np.array(X_train)\n",
        "y_train=np.array(y_train)\n",
        "X_test=np.array(X_test)\n",
        "y_test=np.array(y_test)\n"
      ]
    },
    {
      "cell_type": "code",
      "execution_count": null,
      "metadata": {
        "id": "Rt85HHxGpkre"
      },
      "outputs": [],
      "source": [
        "X_train.shape"
      ]
    },
    {
      "cell_type": "code",
      "execution_count": null,
      "metadata": {
        "id": "LTlldFu4pn9i"
      },
      "outputs": [],
      "source": [
        "y_train.shape"
      ]
    },
    {
      "cell_type": "code",
      "execution_count": null,
      "metadata": {
        "id": "0RxETk0Jpx1H"
      },
      "outputs": [],
      "source": [
        "from keras.layers import Flatten"
      ]
    },
    {
      "cell_type": "code",
      "execution_count": null,
      "metadata": {
        "id": "NASWZtRIp4SA"
      },
      "outputs": [],
      "source": [
        "model=Sequential()\n",
        "model.add(Conv2D(32,(3,3),input_shape=(150,150,3),activation='relu'))\n",
        "model.add(MaxPool2D(2,2))\n",
        "\n",
        "model.add(Flatten())\n",
        "model.add(Dense(100,activation='relu'))\n",
        "model.add(Dense(2,activation='softmax'))\n"
      ]
    },
    {
      "cell_type": "code",
      "execution_count": null,
      "metadata": {
        "id": "ZtSan6uHrEzb"
      },
      "outputs": [],
      "source": [
        "model.compile(optimizer='adam',loss='sparse_categorical_crossentropy',metrics=['accuracy'])"
      ]
    },
    {
      "cell_type": "code",
      "execution_count": null,
      "metadata": {
        "id": "m2rWRSNxrYFk"
      },
      "outputs": [],
      "source": [
        "model.fit(X_train,y_train,batch_size=100,epochs=10)"
      ]
    },
    {
      "cell_type": "code",
      "execution_count": null,
      "metadata": {
        "id": "ryR9oJq0rl8F"
      },
      "outputs": [],
      "source": [
        "loss,accuracy=model.evaluate(X_test,y_test)\n",
        "print(loss)\n",
        "print(accuracy)"
      ]
    },
    {
      "cell_type": "code",
      "execution_count": null,
      "metadata": {
        "id": "LJIE7BIEsHE1"
      },
      "outputs": [],
      "source": [
        "import matplotlib.pyplot as plt\n",
        "img=imread(\"/content/images (1).jpg\")\n"
      ]
    }
  ],
  "metadata": {
    "colab": {
      "provenance": [],
      "mount_file_id": "1k2pRV1XlYcmbiGDO4p3kHoB0gGoGaUHs",
      "authorship_tag": "ABX9TyMB4I3cr0KWOp4M27WnUmm5",
      "include_colab_link": true
    },
    "kernelspec": {
      "display_name": "Python 3",
      "name": "python3"
    },
    "language_info": {
      "name": "python"
    }
  },
  "nbformat": 4,
  "nbformat_minor": 0
}