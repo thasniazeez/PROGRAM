{
  "nbformat": 4,
  "nbformat_minor": 0,
  "metadata": {
    "colab": {
      "provenance": [],
      "mount_file_id": "1FPuC6JB5ygdZNzasVKjvGCsa_ArSr7wD",
      "authorship_tag": "ABX9TyOizYXUrS+gj6cfFVdRgbn4",
      "include_colab_link": true
    },
    "kernelspec": {
      "name": "python3",
      "display_name": "Python 3"
    },
    "language_info": {
      "name": "python"
    }
  },
  "cells": [
    {
      "cell_type": "markdown",
      "metadata": {
        "id": "view-in-github",
        "colab_type": "text"
      },
      "source": [
        "<a href=\"https://colab.research.google.com/github/thasniazeez/PROGRAM/blob/main/maskcnn.ipynb\" target=\"_parent\"><img src=\"https://colab.research.google.com/assets/colab-badge.svg\" alt=\"Open In Colab\"/></a>"
      ]
    },
    {
      "cell_type": "code",
      "execution_count": null,
      "metadata": {
        "id": "8sKkSiwRYUAM"
      },
      "outputs": [],
      "source": [
        "import os\n",
        "from skimage.io import imread\n",
        "from skimage.transform import resize\n",
        "from keras.models import Sequential\n",
        "from keras.layers import Conv2D,MaxPool2D,Dense\n"
      ]
    },
    {
      "cell_type": "code",
      "source": [
        "os.listdir(\"/content/drive/MyDrive/Maskdata1\")"
      ],
      "metadata": {
        "colab": {
          "base_uri": "https://localhost:8080/"
        },
        "id": "-MaHUXqbvQma",
        "outputId": "dc5b47c0-c4df-4d6a-a9a0-cd1aed95391d"
      },
      "execution_count": null,
      "outputs": [
        {
          "output_type": "execute_result",
          "data": {
            "text/plain": [
              "['without_mask', 'with_mask']"
            ]
          },
          "metadata": {},
          "execution_count": 2
        }
      ]
    },
    {
      "cell_type": "code",
      "source": [
        "os.listdir(\"/content/drive/MyDrive/Maskdataset\")"
      ],
      "metadata": {
        "colab": {
          "base_uri": "https://localhost:8080/"
        },
        "id": "bZhk0V0B5b4p",
        "outputId": "d34b9746-becf-4a36-fd35-0a4fc6d87ad1"
      },
      "execution_count": null,
      "outputs": [
        {
          "output_type": "execute_result",
          "data": {
            "text/plain": [
              "['with_mask', 'without_mask']"
            ]
          },
          "metadata": {},
          "execution_count": 3
        }
      ]
    },
    {
      "cell_type": "code",
      "source": [],
      "metadata": {
        "id": "sXPhFqTy9o78"
      },
      "execution_count": null,
      "outputs": []
    },
    {
      "cell_type": "code",
      "source": [
        "train_data=\"/content/drive/MyDrive/Maskdata1\"\n",
        "X_train=[]\n",
        "y_train=[]\n",
        "Categories=['without_mask', 'with_mask']\n",
        "for i in Categories:\n",
        "  path=os.path.join(train_data,i)\n",
        "  images=os.listdir(path)\n",
        "  for img in images:\n",
        "    imgpath=os.path.join(path,img)\n",
        "    # print(imgpath)\n",
        "    img_array=imread(imgpath)\n",
        "    img_resize=resize(img_array,(150,150,3))\n",
        "    X_train.append(img_resize)\n",
        "    y_train.append(Categories.index(i))\n",
        "    print('Loaded',i)\n"
      ],
      "metadata": {
        "id": "aECXGhK8-kG8",
        "colab": {
          "base_uri": "https://localhost:8080/"
        },
        "outputId": "a9fdc097-2c17-43b6-953a-a15c172c17cf"
      },
      "execution_count": null,
      "outputs": [
        {
          "output_type": "stream",
          "name": "stdout",
          "text": [
            "Loaded without_mask\n",
            "Loaded without_mask\n",
            "Loaded without_mask\n",
            "Loaded without_mask\n",
            "Loaded without_mask\n",
            "Loaded without_mask\n",
            "Loaded without_mask\n",
            "Loaded without_mask\n",
            "Loaded without_mask\n",
            "Loaded without_mask\n",
            "Loaded without_mask\n",
            "Loaded without_mask\n",
            "Loaded without_mask\n",
            "Loaded without_mask\n",
            "Loaded without_mask\n",
            "Loaded without_mask\n",
            "Loaded without_mask\n",
            "Loaded without_mask\n",
            "Loaded without_mask\n",
            "Loaded without_mask\n",
            "Loaded without_mask\n",
            "Loaded without_mask\n",
            "Loaded without_mask\n",
            "Loaded without_mask\n",
            "Loaded without_mask\n",
            "Loaded without_mask\n",
            "Loaded without_mask\n",
            "Loaded without_mask\n",
            "Loaded without_mask\n",
            "Loaded without_mask\n",
            "Loaded without_mask\n",
            "Loaded without_mask\n",
            "Loaded without_mask\n",
            "Loaded without_mask\n",
            "Loaded without_mask\n",
            "Loaded without_mask\n",
            "Loaded without_mask\n",
            "Loaded without_mask\n",
            "Loaded without_mask\n",
            "Loaded without_mask\n",
            "Loaded without_mask\n",
            "Loaded without_mask\n",
            "Loaded without_mask\n",
            "Loaded without_mask\n",
            "Loaded without_mask\n",
            "Loaded without_mask\n",
            "Loaded without_mask\n",
            "Loaded without_mask\n",
            "Loaded without_mask\n",
            "Loaded without_mask\n",
            "Loaded without_mask\n",
            "Loaded without_mask\n",
            "Loaded without_mask\n",
            "Loaded without_mask\n",
            "Loaded without_mask\n",
            "Loaded without_mask\n",
            "Loaded without_mask\n",
            "Loaded without_mask\n",
            "Loaded without_mask\n",
            "Loaded without_mask\n",
            "Loaded without_mask\n",
            "Loaded without_mask\n",
            "Loaded without_mask\n",
            "Loaded without_mask\n",
            "Loaded without_mask\n",
            "Loaded without_mask\n",
            "Loaded without_mask\n",
            "Loaded without_mask\n",
            "Loaded without_mask\n",
            "Loaded without_mask\n",
            "Loaded without_mask\n",
            "Loaded without_mask\n",
            "Loaded without_mask\n",
            "Loaded without_mask\n",
            "Loaded without_mask\n",
            "Loaded without_mask\n",
            "Loaded without_mask\n",
            "Loaded without_mask\n",
            "Loaded without_mask\n",
            "Loaded without_mask\n",
            "Loaded without_mask\n",
            "Loaded without_mask\n",
            "Loaded without_mask\n",
            "Loaded without_mask\n",
            "Loaded without_mask\n",
            "Loaded without_mask\n",
            "Loaded without_mask\n",
            "Loaded without_mask\n",
            "Loaded without_mask\n",
            "Loaded without_mask\n",
            "Loaded without_mask\n",
            "Loaded without_mask\n",
            "Loaded without_mask\n",
            "Loaded with_mask\n",
            "Loaded with_mask\n",
            "Loaded with_mask\n",
            "Loaded with_mask\n",
            "Loaded with_mask\n",
            "Loaded with_mask\n",
            "Loaded with_mask\n",
            "Loaded with_mask\n",
            "Loaded with_mask\n",
            "Loaded with_mask\n",
            "Loaded with_mask\n",
            "Loaded with_mask\n",
            "Loaded with_mask\n",
            "Loaded with_mask\n",
            "Loaded with_mask\n",
            "Loaded with_mask\n",
            "Loaded with_mask\n",
            "Loaded with_mask\n",
            "Loaded with_mask\n",
            "Loaded with_mask\n",
            "Loaded with_mask\n",
            "Loaded with_mask\n",
            "Loaded with_mask\n",
            "Loaded with_mask\n",
            "Loaded with_mask\n",
            "Loaded with_mask\n",
            "Loaded with_mask\n",
            "Loaded with_mask\n",
            "Loaded with_mask\n",
            "Loaded with_mask\n",
            "Loaded with_mask\n",
            "Loaded with_mask\n",
            "Loaded with_mask\n",
            "Loaded with_mask\n",
            "Loaded with_mask\n"
          ]
        }
      ]
    },
    {
      "cell_type": "code",
      "source": [],
      "metadata": {
        "id": "384tNskb24Td"
      },
      "execution_count": null,
      "outputs": []
    },
    {
      "cell_type": "code",
      "source": [
        "test_data=\"/content/drive/MyDrive/Maskdataset\"\n",
        "X_test=[]\n",
        "y_test=[]\n",
        "Categories=['with_mask', 'without_mask']\n",
        "for i in Categories:\n",
        "  path=os.path.join(test_data,i)\n",
        "  images=os.listdir(path)\n",
        "  for img in images:\n",
        "    imgpath=os.path.join(path,img)\n",
        "\n",
        "    print(imgpath)\n",
        "    img_array=imread(imgpath)\n",
        "    img_resize=resize(img_array,(150,150,3))\n",
        "    X_test.append(img_resize)\n",
        "    y_test.append(Categories.index(i))\n",
        "    print('Loaded',i)\n"
      ],
      "metadata": {
        "colab": {
          "base_uri": "https://localhost:8080/"
        },
        "id": "KUsSz4FO2_gM",
        "outputId": "0639df14-b614-4cb2-bc82-d7b6f81450be"
      },
      "execution_count": null,
      "outputs": [
        {
          "output_type": "stream",
          "name": "stdout",
          "text": [
            "/content/drive/MyDrive/Maskdataset/with_mask/7-with-mask.jpg\n",
            "Loaded with_mask\n",
            "/content/drive/MyDrive/Maskdataset/with_mask/88-with-mask.jpg\n",
            "Loaded with_mask\n",
            "/content/drive/MyDrive/Maskdataset/with_mask/29-with-mask.jpg\n",
            "Loaded with_mask\n",
            "/content/drive/MyDrive/Maskdataset/with_mask/19-with-mask.jpg\n",
            "Loaded with_mask\n",
            "/content/drive/MyDrive/Maskdataset/with_mask/86-with-mask.jpg\n",
            "Loaded with_mask\n",
            "/content/drive/MyDrive/Maskdataset/with_mask/42-with-mask.jpg\n",
            "Loaded with_mask\n",
            "/content/drive/MyDrive/Maskdataset/with_mask/47-with-mask.jpg\n",
            "Loaded with_mask\n",
            "/content/drive/MyDrive/Maskdataset/with_mask/32-with-mask.jpg\n",
            "Loaded with_mask\n",
            "/content/drive/MyDrive/Maskdataset/with_mask/31-with-mask.jpg\n",
            "Loaded with_mask\n",
            "/content/drive/MyDrive/Maskdataset/with_mask/93-with-mask.jpg\n",
            "Loaded with_mask\n",
            "/content/drive/MyDrive/Maskdataset/with_mask/108-with-mask.jpg\n",
            "Loaded with_mask\n",
            "/content/drive/MyDrive/Maskdataset/with_mask/11-with-mask.jpg\n",
            "Loaded with_mask\n",
            "/content/drive/MyDrive/Maskdataset/with_mask/98-with-mask.jpg\n",
            "Loaded with_mask\n",
            "/content/drive/MyDrive/Maskdataset/with_mask/101-with-mask.jpg\n",
            "Loaded with_mask\n",
            "/content/drive/MyDrive/Maskdataset/with_mask/24-with-mask.jpg\n",
            "Loaded with_mask\n",
            "/content/drive/MyDrive/Maskdataset/with_mask/99-with-mask.jpg\n",
            "Loaded with_mask\n",
            "/content/drive/MyDrive/Maskdataset/with_mask/14-with-mask.jpg\n",
            "Loaded with_mask\n",
            "/content/drive/MyDrive/Maskdataset/with_mask/107-with-mask.jpg\n",
            "Loaded with_mask\n",
            "/content/drive/MyDrive/Maskdataset/with_mask/3-with-mask.jpg\n",
            "Loaded with_mask\n",
            "/content/drive/MyDrive/Maskdataset/with_mask/38-with-mask.jpg\n",
            "Loaded with_mask\n",
            "/content/drive/MyDrive/Maskdataset/with_mask/34-with-mask.jpg\n",
            "Loaded with_mask\n",
            "/content/drive/MyDrive/Maskdataset/with_mask/92-with-mask.jpg\n",
            "Loaded with_mask\n",
            "/content/drive/MyDrive/Maskdataset/with_mask/105-with-mask.jpg\n",
            "Loaded with_mask\n",
            "/content/drive/MyDrive/Maskdataset/with_mask/41-with-mask.jpg\n",
            "Loaded with_mask\n",
            "/content/drive/MyDrive/Maskdataset/with_mask/94-with-mask.jpg\n",
            "Loaded with_mask\n",
            "/content/drive/MyDrive/Maskdataset/with_mask/21-with-mask.jpg\n",
            "Loaded with_mask\n",
            "/content/drive/MyDrive/Maskdataset/with_mask/33-with-mask.jpg\n",
            "Loaded with_mask\n",
            "/content/drive/MyDrive/Maskdataset/with_mask/15-with-mask.jpg\n",
            "Loaded with_mask\n",
            "/content/drive/MyDrive/Maskdataset/with_mask/103-with-mask.jpg\n",
            "Loaded with_mask\n",
            "/content/drive/MyDrive/Maskdataset/with_mask/96-with-mask.jpg\n",
            "Loaded with_mask\n",
            "/content/drive/MyDrive/Maskdataset/with_mask/26-with-mask.jpg\n",
            "Loaded with_mask\n",
            "/content/drive/MyDrive/Maskdataset/with_mask/27-with-mask.jpg\n",
            "Loaded with_mask\n",
            "/content/drive/MyDrive/Maskdataset/with_mask/36-with-mask.jpg\n",
            "Loaded with_mask\n",
            "/content/drive/MyDrive/Maskdataset/with_mask/46-with-mask.jpg\n",
            "Loaded with_mask\n",
            "/content/drive/MyDrive/Maskdataset/with_mask/106-with-mask.jpg\n",
            "Loaded with_mask\n",
            "/content/drive/MyDrive/Maskdataset/with_mask/23-with-mask.jpg\n",
            "Loaded with_mask\n",
            "/content/drive/MyDrive/Maskdataset/with_mask/43-with-mask.jpg\n",
            "Loaded with_mask\n",
            "/content/drive/MyDrive/Maskdataset/with_mask/40-with-mask.jpg\n",
            "Loaded with_mask\n",
            "/content/drive/MyDrive/Maskdataset/with_mask/110-with-mask.jpg\n",
            "Loaded with_mask\n",
            "/content/drive/MyDrive/Maskdataset/with_mask/6-with-mask.jpg\n",
            "Loaded with_mask\n",
            "/content/drive/MyDrive/Maskdataset/with_mask/9-with-mask.jpg\n",
            "Loaded with_mask\n",
            "/content/drive/MyDrive/Maskdataset/with_mask/13-with-mask.jpg\n",
            "Loaded with_mask\n",
            "/content/drive/MyDrive/Maskdataset/with_mask/35-with-mask.jpg\n",
            "Loaded with_mask\n",
            "/content/drive/MyDrive/Maskdataset/with_mask/37-with-mask.jpg\n",
            "Loaded with_mask\n",
            "/content/drive/MyDrive/Maskdataset/with_mask/12-with-mask.jpg\n",
            "Loaded with_mask\n",
            "/content/drive/MyDrive/Maskdataset/with_mask/4-with-mask.jpg\n",
            "Loaded with_mask\n",
            "/content/drive/MyDrive/Maskdataset/with_mask/17-with-mask.jpg\n",
            "Loaded with_mask\n",
            "/content/drive/MyDrive/Maskdataset/with_mask/25-with-mask.jpg\n",
            "Loaded with_mask\n",
            "/content/drive/MyDrive/Maskdataset/with_mask/109-with-mask.jpg\n",
            "Loaded with_mask\n",
            "/content/drive/MyDrive/Maskdataset/with_mask/91-with-mask.jpg\n",
            "Loaded with_mask\n",
            "/content/drive/MyDrive/Maskdataset/with_mask/56-with-mask.jpg\n",
            "Loaded with_mask\n",
            "/content/drive/MyDrive/Maskdataset/with_mask/97-with-mask.jpg\n",
            "Loaded with_mask\n",
            "/content/drive/MyDrive/Maskdataset/with_mask/10-with-mask.jpg\n",
            "Loaded with_mask\n",
            "/content/drive/MyDrive/Maskdataset/with_mask/89-with-mask.jpg\n",
            "Loaded with_mask\n",
            "/content/drive/MyDrive/Maskdataset/with_mask/8-with-mask.jpg\n",
            "Loaded with_mask\n",
            "/content/drive/MyDrive/Maskdataset/with_mask/100-with-mask.jpg\n",
            "Loaded with_mask\n",
            "/content/drive/MyDrive/Maskdataset/with_mask/5-with-mask.jpg\n",
            "Loaded with_mask\n",
            "/content/drive/MyDrive/Maskdataset/with_mask/104-with-mask.jpg\n",
            "Loaded with_mask\n",
            "/content/drive/MyDrive/Maskdataset/with_mask/76-with-mask.jpg\n",
            "Loaded with_mask\n",
            "/content/drive/MyDrive/Maskdataset/with_mask/39-with-mask.jpg\n",
            "Loaded with_mask\n",
            "/content/drive/MyDrive/Maskdataset/without_mask/32.jpg\n",
            "Loaded without_mask\n",
            "/content/drive/MyDrive/Maskdataset/without_mask/44.jpg\n",
            "Loaded without_mask\n",
            "/content/drive/MyDrive/Maskdataset/without_mask/2.jpg\n",
            "Loaded without_mask\n",
            "/content/drive/MyDrive/Maskdataset/without_mask/50.jpg\n",
            "Loaded without_mask\n",
            "/content/drive/MyDrive/Maskdataset/without_mask/52.jpg\n",
            "Loaded without_mask\n",
            "/content/drive/MyDrive/Maskdataset/without_mask/37.jpg\n",
            "Loaded without_mask\n",
            "/content/drive/MyDrive/Maskdataset/without_mask/30.jpg\n",
            "Loaded without_mask\n",
            "/content/drive/MyDrive/Maskdataset/without_mask/45.jpg\n",
            "Loaded without_mask\n",
            "/content/drive/MyDrive/Maskdataset/without_mask/56.jpg\n",
            "Loaded without_mask\n",
            "/content/drive/MyDrive/Maskdataset/without_mask/57.jpg\n",
            "Loaded without_mask\n",
            "/content/drive/MyDrive/Maskdataset/without_mask/3.jpg\n",
            "Loaded without_mask\n",
            "/content/drive/MyDrive/Maskdataset/without_mask/39.jpg\n",
            "Loaded without_mask\n",
            "/content/drive/MyDrive/Maskdataset/without_mask/24.jpg\n",
            "Loaded without_mask\n",
            "/content/drive/MyDrive/Maskdataset/without_mask/49.jpg\n",
            "Loaded without_mask\n",
            "/content/drive/MyDrive/Maskdataset/without_mask/28.jpg\n",
            "Loaded without_mask\n",
            "/content/drive/MyDrive/Maskdataset/without_mask/34.jpg\n",
            "Loaded without_mask\n",
            "/content/drive/MyDrive/Maskdataset/without_mask/46.jpg\n",
            "Loaded without_mask\n",
            "/content/drive/MyDrive/Maskdataset/without_mask/67.jpg\n",
            "Loaded without_mask\n",
            "/content/drive/MyDrive/Maskdataset/without_mask/51.jpg\n",
            "Loaded without_mask\n",
            "/content/drive/MyDrive/Maskdataset/without_mask/43.jpg\n",
            "Loaded without_mask\n",
            "/content/drive/MyDrive/Maskdataset/without_mask/47.jpg\n",
            "Loaded without_mask\n",
            "/content/drive/MyDrive/Maskdataset/without_mask/48.jpg\n",
            "Loaded without_mask\n",
            "/content/drive/MyDrive/Maskdataset/without_mask/29.jpg\n",
            "Loaded without_mask\n",
            "/content/drive/MyDrive/Maskdataset/without_mask/31.jpg\n",
            "Loaded without_mask\n",
            "/content/drive/MyDrive/Maskdataset/without_mask/40.jpg\n",
            "Loaded without_mask\n",
            "/content/drive/MyDrive/Maskdataset/without_mask/59.jpg\n",
            "Loaded without_mask\n",
            "/content/drive/MyDrive/Maskdataset/without_mask/63.jpg\n",
            "Loaded without_mask\n",
            "/content/drive/MyDrive/Maskdataset/without_mask/4.jpg\n",
            "Loaded without_mask\n",
            "/content/drive/MyDrive/Maskdataset/without_mask/61.jpg\n",
            "Loaded without_mask\n",
            "/content/drive/MyDrive/Maskdataset/without_mask/0.jpg\n",
            "Loaded without_mask\n",
            "/content/drive/MyDrive/Maskdataset/without_mask/62.jpg\n",
            "Loaded without_mask\n",
            "/content/drive/MyDrive/Maskdataset/without_mask/66.jpg\n",
            "Loaded without_mask\n",
            "/content/drive/MyDrive/Maskdataset/without_mask/53.jpg\n",
            "Loaded without_mask\n",
            "/content/drive/MyDrive/Maskdataset/without_mask/26.jpg\n",
            "Loaded without_mask\n",
            "/content/drive/MyDrive/Maskdataset/without_mask/65.jpg\n",
            "Loaded without_mask\n",
            "/content/drive/MyDrive/Maskdataset/without_mask/54.jpg\n",
            "Loaded without_mask\n",
            "/content/drive/MyDrive/Maskdataset/without_mask/55.jpg\n",
            "Loaded without_mask\n",
            "/content/drive/MyDrive/Maskdataset/without_mask/64.jpg\n",
            "Loaded without_mask\n",
            "/content/drive/MyDrive/Maskdataset/without_mask/58.jpg\n",
            "Loaded without_mask\n",
            "/content/drive/MyDrive/Maskdataset/without_mask/6.jpg\n",
            "Loaded without_mask\n",
            "/content/drive/MyDrive/Maskdataset/without_mask/1.jpg\n",
            "Loaded without_mask\n",
            "/content/drive/MyDrive/Maskdataset/without_mask/33.jpg\n",
            "Loaded without_mask\n"
          ]
        }
      ]
    },
    {
      "cell_type": "code",
      "source": [
        "import numpy as np\n",
        "X_train=np.array(X_train)\n",
        "y_train=np.array(y_train)\n",
        "X_test=np.array(X_test)\n",
        "y_test=np.array(y_test)"
      ],
      "metadata": {
        "id": "86zg7Ap-yMuE"
      },
      "execution_count": null,
      "outputs": []
    },
    {
      "cell_type": "code",
      "source": [
        "X_train.shape"
      ],
      "metadata": {
        "colab": {
          "base_uri": "https://localhost:8080/"
        },
        "id": "7-REr3-kDDNC",
        "outputId": "242ce235-abde-4e39-c0ac-ee420c52b2ce"
      },
      "execution_count": null,
      "outputs": [
        {
          "output_type": "execute_result",
          "data": {
            "text/plain": [
              "(128, 150, 150, 3)"
            ]
          },
          "metadata": {},
          "execution_count": 7
        }
      ]
    },
    {
      "cell_type": "code",
      "source": [
        "y_train.shape"
      ],
      "metadata": {
        "colab": {
          "base_uri": "https://localhost:8080/"
        },
        "id": "2qh_BMG6Dhlr",
        "outputId": "bd8cd429-ecc7-458c-c48e-ed764c8c4236"
      },
      "execution_count": null,
      "outputs": [
        {
          "output_type": "execute_result",
          "data": {
            "text/plain": [
              "(128,)"
            ]
          },
          "metadata": {},
          "execution_count": 8
        }
      ]
    },
    {
      "cell_type": "code",
      "source": [
        "X_test.shape"
      ],
      "metadata": {
        "colab": {
          "base_uri": "https://localhost:8080/"
        },
        "id": "nl5rpd8QDrUE",
        "outputId": "d6e6e253-6198-4894-b7d4-857a74961c84"
      },
      "execution_count": null,
      "outputs": [
        {
          "output_type": "execute_result",
          "data": {
            "text/plain": [
              "(102, 150, 150, 3)"
            ]
          },
          "metadata": {},
          "execution_count": 9
        }
      ]
    },
    {
      "cell_type": "code",
      "source": [
        "y_test.shape"
      ],
      "metadata": {
        "colab": {
          "base_uri": "https://localhost:8080/"
        },
        "id": "yquNfqe-DuZR",
        "outputId": "71076648-7286-47b3-bd5b-99b5265f74f8"
      },
      "execution_count": null,
      "outputs": [
        {
          "output_type": "execute_result",
          "data": {
            "text/plain": [
              "(102,)"
            ]
          },
          "metadata": {},
          "execution_count": 10
        }
      ]
    },
    {
      "cell_type": "code",
      "source": [
        "from keras.layers import Flatten"
      ],
      "metadata": {
        "id": "r1iQEAZvOlst"
      },
      "execution_count": null,
      "outputs": []
    },
    {
      "cell_type": "code",
      "source": [
        "# we have to build model\n",
        "model=Sequential()\n",
        "model.add(Conv2D(32,(3,3),input_shape=(150,150,3),activation='relu'))\n",
        "model.add(MaxPool2D(2,2))\n",
        "\n",
        "\n",
        "model.add(Flatten())\n",
        "model.add(Dense(100,activation='relu'))\n",
        "model.add(Dense(2,activation='softmax'))\n"
      ],
      "metadata": {
        "id": "J9KGk_kdFaj2"
      },
      "execution_count": null,
      "outputs": []
    },
    {
      "cell_type": "code",
      "source": [
        "model.compile(optimizer='adam',loss='sparse_categorical_crossentropy',metrics=['accuracy'])"
      ],
      "metadata": {
        "id": "Rc9DDA2YP6iH"
      },
      "execution_count": null,
      "outputs": []
    },
    {
      "cell_type": "code",
      "source": [
        "model.fit(X_train,y_train,batch_size=100,epochs=10)"
      ],
      "metadata": {
        "colab": {
          "base_uri": "https://localhost:8080/"
        },
        "id": "ia_zcGwFQQ5H",
        "outputId": "36890f34-bc16-4608-a295-1f7925079024"
      },
      "execution_count": null,
      "outputs": [
        {
          "output_type": "stream",
          "name": "stdout",
          "text": [
            "Epoch 1/10\n",
            "2/2 [==============================] - 3s 658ms/step - loss: 1.9413 - accuracy: 0.7266\n",
            "Epoch 2/10\n",
            "2/2 [==============================] - 3s 1s/step - loss: 20.6332 - accuracy: 0.2812\n",
            "Epoch 3/10\n",
            "2/2 [==============================] - 4s 1s/step - loss: 7.0677 - accuracy: 0.7266\n",
            "Epoch 4/10\n",
            "2/2 [==============================] - 2s 653ms/step - loss: 10.6864 - accuracy: 0.7266\n",
            "Epoch 5/10\n",
            "2/2 [==============================] - 2s 642ms/step - loss: 7.7055 - accuracy: 0.7266\n",
            "Epoch 6/10\n",
            "2/2 [==============================] - 2s 653ms/step - loss: 2.8922 - accuracy: 0.7422\n",
            "Epoch 7/10\n",
            "2/2 [==============================] - 2s 636ms/step - loss: 0.7385 - accuracy: 0.7188\n",
            "Epoch 8/10\n",
            "2/2 [==============================] - 3s 1s/step - loss: 2.1527 - accuracy: 0.4297\n",
            "Epoch 9/10\n",
            "2/2 [==============================] - 4s 1s/step - loss: 0.2865 - accuracy: 0.8281\n",
            "Epoch 10/10\n",
            "2/2 [==============================] - 2s 641ms/step - loss: 0.7514 - accuracy: 0.7734\n"
          ]
        },
        {
          "output_type": "execute_result",
          "data": {
            "text/plain": [
              "<keras.src.callbacks.History at 0x7e048c4e4e20>"
            ]
          },
          "metadata": {},
          "execution_count": 14
        }
      ]
    },
    {
      "cell_type": "code",
      "source": [
        "# using evalute fn going to check the performance in xtest\n",
        "loss,accuracy=model.evaluate(X_test,y_test)\n",
        "print(loss)\n",
        "print(accuracy)"
      ],
      "metadata": {
        "colab": {
          "base_uri": "https://localhost:8080/"
        },
        "id": "FD0SBBX-NpOK",
        "outputId": "92b4f107-b658-4e19-961e-44805f26ce45"
      },
      "execution_count": null,
      "outputs": [
        {
          "output_type": "stream",
          "name": "stdout",
          "text": [
            "4/4 [==============================] - 1s 127ms/step - loss: 3.6967 - accuracy: 0.5882\n",
            "3.696687936782837\n",
            "0.5882353186607361\n"
          ]
        }
      ]
    },
    {
      "cell_type": "code",
      "source": [
        "import matplotlib.pyplot as plt\n",
        "\n",
        "img=imread(\"/content/j.jpg\")\n",
        "plt.imshow(img)"
      ],
      "metadata": {
        "colab": {
          "base_uri": "https://localhost:8080/"
        },
        "id": "qNYB6M6qUKI4",
        "outputId": "59565a49-728e-44b8-b859-2ea9cf663ee9"
      },
      "execution_count": null,
      "outputs": [
        {
          "output_type": "error",
          "ename": "FileNotFoundError",
          "evalue": "ignored",
          "traceback": [
            "\u001b[0;31m---------------------------------------------------------------------------\u001b[0m",
            "\u001b[0;31mFileNotFoundError\u001b[0m                         Traceback (most recent call last)",
            "\u001b[0;32m<ipython-input-16-d8eabc9b323f>\u001b[0m in \u001b[0;36m<cell line: 3>\u001b[0;34m()\u001b[0m\n\u001b[1;32m      1\u001b[0m \u001b[0;32mimport\u001b[0m \u001b[0mmatplotlib\u001b[0m\u001b[0;34m.\u001b[0m\u001b[0mpyplot\u001b[0m \u001b[0;32mas\u001b[0m \u001b[0mplt\u001b[0m\u001b[0;34m\u001b[0m\u001b[0;34m\u001b[0m\u001b[0m\n\u001b[1;32m      2\u001b[0m \u001b[0;34m\u001b[0m\u001b[0m\n\u001b[0;32m----> 3\u001b[0;31m \u001b[0mimg\u001b[0m\u001b[0;34m=\u001b[0m\u001b[0mimread\u001b[0m\u001b[0;34m(\u001b[0m\u001b[0;34m\"/content/j.jpg\"\u001b[0m\u001b[0;34m)\u001b[0m\u001b[0;34m\u001b[0m\u001b[0;34m\u001b[0m\u001b[0m\n\u001b[0m\u001b[1;32m      4\u001b[0m \u001b[0mplt\u001b[0m\u001b[0;34m.\u001b[0m\u001b[0mimshow\u001b[0m\u001b[0;34m(\u001b[0m\u001b[0mimg\u001b[0m\u001b[0;34m)\u001b[0m\u001b[0;34m\u001b[0m\u001b[0;34m\u001b[0m\u001b[0m\n",
            "\u001b[0;32m/usr/local/lib/python3.10/dist-packages/skimage/io/_io.py\u001b[0m in \u001b[0;36mimread\u001b[0;34m(fname, as_gray, plugin, **plugin_args)\u001b[0m\n\u001b[1;32m     51\u001b[0m \u001b[0;34m\u001b[0m\u001b[0m\n\u001b[1;32m     52\u001b[0m     \u001b[0;32mwith\u001b[0m \u001b[0mfile_or_url_context\u001b[0m\u001b[0;34m(\u001b[0m\u001b[0mfname\u001b[0m\u001b[0;34m)\u001b[0m \u001b[0;32mas\u001b[0m \u001b[0mfname\u001b[0m\u001b[0;34m:\u001b[0m\u001b[0;34m\u001b[0m\u001b[0;34m\u001b[0m\u001b[0m\n\u001b[0;32m---> 53\u001b[0;31m         \u001b[0mimg\u001b[0m \u001b[0;34m=\u001b[0m \u001b[0mcall_plugin\u001b[0m\u001b[0;34m(\u001b[0m\u001b[0;34m'imread'\u001b[0m\u001b[0;34m,\u001b[0m \u001b[0mfname\u001b[0m\u001b[0;34m,\u001b[0m \u001b[0mplugin\u001b[0m\u001b[0;34m=\u001b[0m\u001b[0mplugin\u001b[0m\u001b[0;34m,\u001b[0m \u001b[0;34m**\u001b[0m\u001b[0mplugin_args\u001b[0m\u001b[0;34m)\u001b[0m\u001b[0;34m\u001b[0m\u001b[0;34m\u001b[0m\u001b[0m\n\u001b[0m\u001b[1;32m     54\u001b[0m \u001b[0;34m\u001b[0m\u001b[0m\n\u001b[1;32m     55\u001b[0m     \u001b[0;32mif\u001b[0m \u001b[0;32mnot\u001b[0m \u001b[0mhasattr\u001b[0m\u001b[0;34m(\u001b[0m\u001b[0mimg\u001b[0m\u001b[0;34m,\u001b[0m \u001b[0;34m'ndim'\u001b[0m\u001b[0;34m)\u001b[0m\u001b[0;34m:\u001b[0m\u001b[0;34m\u001b[0m\u001b[0;34m\u001b[0m\u001b[0m\n",
            "\u001b[0;32m/usr/local/lib/python3.10/dist-packages/skimage/io/manage_plugins.py\u001b[0m in \u001b[0;36mcall_plugin\u001b[0;34m(kind, *args, **kwargs)\u001b[0m\n\u001b[1;32m    205\u001b[0m                                (plugin, kind))\n\u001b[1;32m    206\u001b[0m \u001b[0;34m\u001b[0m\u001b[0m\n\u001b[0;32m--> 207\u001b[0;31m     \u001b[0;32mreturn\u001b[0m \u001b[0mfunc\u001b[0m\u001b[0;34m(\u001b[0m\u001b[0;34m*\u001b[0m\u001b[0margs\u001b[0m\u001b[0;34m,\u001b[0m \u001b[0;34m**\u001b[0m\u001b[0mkwargs\u001b[0m\u001b[0;34m)\u001b[0m\u001b[0;34m\u001b[0m\u001b[0;34m\u001b[0m\u001b[0m\n\u001b[0m\u001b[1;32m    208\u001b[0m \u001b[0;34m\u001b[0m\u001b[0m\n\u001b[1;32m    209\u001b[0m \u001b[0;34m\u001b[0m\u001b[0m\n",
            "\u001b[0;32m/usr/local/lib/python3.10/dist-packages/skimage/io/_plugins/imageio_plugin.py\u001b[0m in \u001b[0;36mimread\u001b[0;34m(*args, **kwargs)\u001b[0m\n\u001b[1;32m     13\u001b[0m \u001b[0;34m@\u001b[0m\u001b[0mwraps\u001b[0m\u001b[0;34m(\u001b[0m\u001b[0mimageio_imread\u001b[0m\u001b[0;34m)\u001b[0m\u001b[0;34m\u001b[0m\u001b[0;34m\u001b[0m\u001b[0m\n\u001b[1;32m     14\u001b[0m \u001b[0;32mdef\u001b[0m \u001b[0mimread\u001b[0m\u001b[0;34m(\u001b[0m\u001b[0;34m*\u001b[0m\u001b[0margs\u001b[0m\u001b[0;34m,\u001b[0m \u001b[0;34m**\u001b[0m\u001b[0mkwargs\u001b[0m\u001b[0;34m)\u001b[0m\u001b[0;34m:\u001b[0m\u001b[0;34m\u001b[0m\u001b[0;34m\u001b[0m\u001b[0m\n\u001b[0;32m---> 15\u001b[0;31m     \u001b[0;32mreturn\u001b[0m \u001b[0mnp\u001b[0m\u001b[0;34m.\u001b[0m\u001b[0masarray\u001b[0m\u001b[0;34m(\u001b[0m\u001b[0mimageio_imread\u001b[0m\u001b[0;34m(\u001b[0m\u001b[0;34m*\u001b[0m\u001b[0margs\u001b[0m\u001b[0;34m,\u001b[0m \u001b[0;34m**\u001b[0m\u001b[0mkwargs\u001b[0m\u001b[0;34m)\u001b[0m\u001b[0;34m)\u001b[0m\u001b[0;34m\u001b[0m\u001b[0;34m\u001b[0m\u001b[0m\n\u001b[0m",
            "\u001b[0;32m/usr/local/lib/python3.10/dist-packages/imageio/v2.py\u001b[0m in \u001b[0;36mimread\u001b[0;34m(uri, format, **kwargs)\u001b[0m\n\u001b[1;32m    357\u001b[0m     \u001b[0mimopen_args\u001b[0m\u001b[0;34m[\u001b[0m\u001b[0;34m\"legacy_mode\"\u001b[0m\u001b[0;34m]\u001b[0m \u001b[0;34m=\u001b[0m \u001b[0;32mTrue\u001b[0m\u001b[0;34m\u001b[0m\u001b[0;34m\u001b[0m\u001b[0m\n\u001b[1;32m    358\u001b[0m \u001b[0;34m\u001b[0m\u001b[0m\n\u001b[0;32m--> 359\u001b[0;31m     \u001b[0;32mwith\u001b[0m \u001b[0mimopen\u001b[0m\u001b[0;34m(\u001b[0m\u001b[0muri\u001b[0m\u001b[0;34m,\u001b[0m \u001b[0;34m\"ri\"\u001b[0m\u001b[0;34m,\u001b[0m \u001b[0;34m**\u001b[0m\u001b[0mimopen_args\u001b[0m\u001b[0;34m)\u001b[0m \u001b[0;32mas\u001b[0m \u001b[0mfile\u001b[0m\u001b[0;34m:\u001b[0m\u001b[0;34m\u001b[0m\u001b[0;34m\u001b[0m\u001b[0m\n\u001b[0m\u001b[1;32m    360\u001b[0m         \u001b[0mresult\u001b[0m \u001b[0;34m=\u001b[0m \u001b[0mfile\u001b[0m\u001b[0;34m.\u001b[0m\u001b[0mread\u001b[0m\u001b[0;34m(\u001b[0m\u001b[0mindex\u001b[0m\u001b[0;34m=\u001b[0m\u001b[0;36m0\u001b[0m\u001b[0;34m,\u001b[0m \u001b[0;34m**\u001b[0m\u001b[0mkwargs\u001b[0m\u001b[0;34m)\u001b[0m\u001b[0;34m\u001b[0m\u001b[0;34m\u001b[0m\u001b[0m\n\u001b[1;32m    361\u001b[0m \u001b[0;34m\u001b[0m\u001b[0m\n",
            "\u001b[0;32m/usr/local/lib/python3.10/dist-packages/imageio/core/imopen.py\u001b[0m in \u001b[0;36mimopen\u001b[0;34m(uri, io_mode, plugin, extension, format_hint, legacy_mode, **kwargs)\u001b[0m\n\u001b[1;32m    111\u001b[0m         \u001b[0mrequest\u001b[0m\u001b[0;34m.\u001b[0m\u001b[0mformat_hint\u001b[0m \u001b[0;34m=\u001b[0m \u001b[0mformat_hint\u001b[0m\u001b[0;34m\u001b[0m\u001b[0;34m\u001b[0m\u001b[0m\n\u001b[1;32m    112\u001b[0m     \u001b[0;32melse\u001b[0m\u001b[0;34m:\u001b[0m\u001b[0;34m\u001b[0m\u001b[0;34m\u001b[0m\u001b[0m\n\u001b[0;32m--> 113\u001b[0;31m         \u001b[0mrequest\u001b[0m \u001b[0;34m=\u001b[0m \u001b[0mRequest\u001b[0m\u001b[0;34m(\u001b[0m\u001b[0muri\u001b[0m\u001b[0;34m,\u001b[0m \u001b[0mio_mode\u001b[0m\u001b[0;34m,\u001b[0m \u001b[0mformat_hint\u001b[0m\u001b[0;34m=\u001b[0m\u001b[0mformat_hint\u001b[0m\u001b[0;34m,\u001b[0m \u001b[0mextension\u001b[0m\u001b[0;34m=\u001b[0m\u001b[0mextension\u001b[0m\u001b[0;34m)\u001b[0m\u001b[0;34m\u001b[0m\u001b[0;34m\u001b[0m\u001b[0m\n\u001b[0m\u001b[1;32m    114\u001b[0m \u001b[0;34m\u001b[0m\u001b[0m\n\u001b[1;32m    115\u001b[0m     \u001b[0msource\u001b[0m \u001b[0;34m=\u001b[0m \u001b[0;34m\"<bytes>\"\u001b[0m \u001b[0;32mif\u001b[0m \u001b[0misinstance\u001b[0m\u001b[0;34m(\u001b[0m\u001b[0muri\u001b[0m\u001b[0;34m,\u001b[0m \u001b[0mbytes\u001b[0m\u001b[0;34m)\u001b[0m \u001b[0;32melse\u001b[0m \u001b[0muri\u001b[0m\u001b[0;34m\u001b[0m\u001b[0;34m\u001b[0m\u001b[0m\n",
            "\u001b[0;32m/usr/local/lib/python3.10/dist-packages/imageio/core/request.py\u001b[0m in \u001b[0;36m__init__\u001b[0;34m(self, uri, mode, extension, format_hint, **kwargs)\u001b[0m\n\u001b[1;32m    245\u001b[0m \u001b[0;34m\u001b[0m\u001b[0m\n\u001b[1;32m    246\u001b[0m         \u001b[0;31m# Parse what was given\u001b[0m\u001b[0;34m\u001b[0m\u001b[0;34m\u001b[0m\u001b[0m\n\u001b[0;32m--> 247\u001b[0;31m         \u001b[0mself\u001b[0m\u001b[0;34m.\u001b[0m\u001b[0m_parse_uri\u001b[0m\u001b[0;34m(\u001b[0m\u001b[0muri\u001b[0m\u001b[0;34m)\u001b[0m\u001b[0;34m\u001b[0m\u001b[0;34m\u001b[0m\u001b[0m\n\u001b[0m\u001b[1;32m    248\u001b[0m \u001b[0;34m\u001b[0m\u001b[0m\n\u001b[1;32m    249\u001b[0m         \u001b[0;31m# Set extension\u001b[0m\u001b[0;34m\u001b[0m\u001b[0;34m\u001b[0m\u001b[0m\n",
            "\u001b[0;32m/usr/local/lib/python3.10/dist-packages/imageio/core/request.py\u001b[0m in \u001b[0;36m_parse_uri\u001b[0;34m(self, uri)\u001b[0m\n\u001b[1;32m    405\u001b[0m                 \u001b[0;31m# Reading: check that the file exists (but is allowed a dir)\u001b[0m\u001b[0;34m\u001b[0m\u001b[0;34m\u001b[0m\u001b[0m\n\u001b[1;32m    406\u001b[0m                 \u001b[0;32mif\u001b[0m \u001b[0;32mnot\u001b[0m \u001b[0mos\u001b[0m\u001b[0;34m.\u001b[0m\u001b[0mpath\u001b[0m\u001b[0;34m.\u001b[0m\u001b[0mexists\u001b[0m\u001b[0;34m(\u001b[0m\u001b[0mfn\u001b[0m\u001b[0;34m)\u001b[0m\u001b[0;34m:\u001b[0m\u001b[0;34m\u001b[0m\u001b[0;34m\u001b[0m\u001b[0m\n\u001b[0;32m--> 407\u001b[0;31m                     \u001b[0;32mraise\u001b[0m \u001b[0mFileNotFoundError\u001b[0m\u001b[0;34m(\u001b[0m\u001b[0;34m\"No such file: '%s'\"\u001b[0m \u001b[0;34m%\u001b[0m \u001b[0mfn\u001b[0m\u001b[0;34m)\u001b[0m\u001b[0;34m\u001b[0m\u001b[0;34m\u001b[0m\u001b[0m\n\u001b[0m\u001b[1;32m    408\u001b[0m             \u001b[0;32melse\u001b[0m\u001b[0;34m:\u001b[0m\u001b[0;34m\u001b[0m\u001b[0;34m\u001b[0m\u001b[0m\n\u001b[1;32m    409\u001b[0m                 \u001b[0;31m# Writing: check that the directory to write to does exist\u001b[0m\u001b[0;34m\u001b[0m\u001b[0;34m\u001b[0m\u001b[0m\n",
            "\u001b[0;31mFileNotFoundError\u001b[0m: No such file: '/content/j.jpg'"
          ]
        }
      ]
    },
    {
      "cell_type": "code",
      "source": [
        "img=resize(img,(150,150,3))\n",
        "img.shape"
      ],
      "metadata": {
        "id": "arnepc8sYR4m"
      },
      "execution_count": null,
      "outputs": []
    },
    {
      "cell_type": "code",
      "source": [
        "X_train.shape"
      ],
      "metadata": {
        "id": "2Ipa31jNYjD5"
      },
      "execution_count": null,
      "outputs": []
    },
    {
      "cell_type": "code",
      "source": [
        "# we have to change like this\n",
        "# (1,150,150,3)"
      ],
      "metadata": {
        "id": "1JJ1ZQQPbShh"
      },
      "execution_count": null,
      "outputs": []
    },
    {
      "cell_type": "code",
      "source": [
        "img=img.reshape(1,150,150,3)\n",
        "img.shape"
      ],
      "metadata": {
        "id": "Df_SZkN5batc"
      },
      "execution_count": null,
      "outputs": []
    },
    {
      "cell_type": "code",
      "source": [
        "y_new=model.predict(img)\n",
        "y_new"
      ],
      "metadata": {
        "id": "jNFmi-4hdEnp"
      },
      "execution_count": null,
      "outputs": []
    },
    {
      "cell_type": "code",
      "source": [
        "# by  finding highest index we can find maximum arg\n",
        "\n",
        "ind=y_new.argmax()\n",
        "print(Categories[ind])"
      ],
      "metadata": {
        "id": "1rj2y6FldaW7"
      },
      "execution_count": null,
      "outputs": []
    }
  ]
}